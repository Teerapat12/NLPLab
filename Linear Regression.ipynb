{
 "cells": [
  {
   "cell_type": "markdown",
   "metadata": {},
   "source": [
    "<h1>Linear Regression Report</h1>"
   ]
  },
  {
   "cell_type": "markdown",
   "metadata": {},
   "source": [
    "<ul>\n",
    "<li>Introduction</li>\n",
    "<li>Procedure</li>\n",
    "<li>Result</li>\n",
    "<li>Conclusion</li>\n",
    "</ul>"
   ]
  },
  {
   "cell_type": "markdown",
   "metadata": {},
   "source": [
    "<h3>Introduction</h3>"
   ]
  },
  {
   "cell_type": "markdown",
   "metadata": {},
   "source": [
    "In statistics, linear regression is an approach for modeling the relationship between a scalar dependent variable y and one or more explanatory variables (or independent variables) denoted X.The relationships are modeled using linear predictor functions whose unknown model parameters are estimated from the data. Such models are called linear models. "
   ]
  },
  {
   "cell_type": "markdown",
   "metadata": {},
   "source": [
    "<img src=\"https://i.ytimg.com/vi/zPG4NjIkCjc/maxresdefault.jpg\" height=\"650\" width=\"650\"/>"
   ]
  },
  {
   "cell_type": "markdown",
   "metadata": {},
   "source": [
    "When training the data, if data size of data is very large, training might take very long time. Imagine having to train PetaBye size of files. In this project, I will try to use parallel processing technique to help speeding up the time need to train a model. "
   ]
  },
  {
   "cell_type": "markdown",
   "metadata": {},
   "source": [
    "<h4>Data</h4>"
   ]
  },
  {
   "cell_type": "markdown",
   "metadata": {},
   "source": [
    "The dataset come from https://www.kaggle.com/c/house-prices-advanced-regression-techniques. The data contain a lot of features. In this experiment, I already extract features that has high colleration with the output which is \"SalePrice\". The goal is to predict the price of a house given house properties by using Linear Regression. "
   ]
  },
  {
   "cell_type": "markdown",
   "metadata": {},
   "source": [
    "<h2>Procedure</h2>"
   ]
  },
  {
   "cell_type": "markdown",
   "metadata": {},
   "source": [
    "There are some procedure in fitting a line to a dataset. The steps are as follow :\n",
    "<ul>\n",
    "<li>Preprocessing (Clean data)</li>\n",
    "<li>Load Data into Memory to process</li>\n",
    "<li>Finding Optimal Weight (Normal Equation)</li>\n",
    "<li>Evaluation using validate set</li>\n",
    "</ul>\n"
   ]
  },
  {
   "cell_type": "markdown",
   "metadata": {},
   "source": [
    "<h3>Preprocessing</h3>\n",
    "Here we need to clean the data. Cleaning data can range from dealing the noise to feature scaling. This will be done before loading the data into Java file."
   ]
  },
  {
   "cell_type": "markdown",
   "metadata": {},
   "source": [
    "<h3>Loading the Data</h3>\n",
    "We will load data into Java to calculate optimal weights best fitting the data. Here, I had seperate the file into 4 parts.\n",
    "In sequential, we will need to read file by file. In contrast, parallel version will be able to read all of them consequently. Because this step takes a lot of time, parallel version speed up is very high. "
   ]
  },
  {
   "cell_type": "markdown",
   "metadata": {},
   "source": [
    "<h3>Finding Optimal Weights</h3>"
   ]
  },
  {
   "cell_type": "markdown",
   "metadata": {},
   "source": [
    "Before finding optimal weights, let's explore how we will predict the price first. We will first construct a matrix X. Each row of the matrix will be a detail of one house, while column represent each property. We also have vector 'y', which contain each of the house price. And lets call y' the y value that our model will predict given matrix X."
   ]
  },
  {
   "cell_type": "markdown",
   "metadata": {},
   "source": [
    "$X = \\begin{vmatrix}\n",
    "7 & 1980 & 15 & 67 & 157 & 5 & 4 \\\\\n",
    "5 & 1996 & 20 & 58 & 513 & 5  & 751\\\\\n",
    "6 & 2010 & 67 & 7 & 6 & 6  & 45637\\\\\n",
    "\\end{vmatrix}$\n",
    "\n",
    "$y = \\begin{vmatrix}\n",
    "15000\\\\\n",
    "30000\\\\\n",
    "10000 \\\\\n",
    "\\end{vmatrix}$"
   ]
  },
  {
   "cell_type": "markdown",
   "metadata": {},
   "source": [
    "The formula for predicting the price value is "
   ]
  },
  {
   "cell_type": "markdown",
   "metadata": {},
   "source": [
    "$ Xθ = y' $ \n",
    "\n",
    "$\n",
    "\\begin{vmatrix}\n",
    "7 & 1980 & 15 & 67 & 157 & 5 & 4 \\\\\n",
    "5 & 1996 & 20 & 58 & 513 & 5  & 751\\\\\n",
    "6 & 2010 & 67 & 7 & 6 & 6  & 37\\\\\n",
    "\\end{vmatrix}\n",
    "$\n",
    "$\n",
    "\\begin{vmatrix}\n",
    "2\\\\\n",
    "4\\\\\n",
    "6 \\\\\n",
    "10 \\\\\n",
    "26 \\\\\n",
    "1 \\\\\n",
    "50 \\\\\n",
    "\\end{vmatrix}$\n",
    "=\n",
    "$\n",
    "\\begin{vmatrix}\n",
    "12981\\\\\n",
    "59587\\\\\n",
    "10536\\\\\n",
    "\\end{vmatrix}$\n",
    "\n",
    "= $y'$"
   ]
  },
  {
   "cell_type": "markdown",
   "metadata": {},
   "source": [
    "From the above example, the weights we have here did a pretty good job. The price we got is quite near the real price. But the second house value is quite off compare to other. From here, the difference is"
   ]
  },
  {
   "cell_type": "markdown",
   "metadata": {},
   "source": [
    "$\\begin{vmatrix}\n",
    "12981\\\\\n",
    "59587\\\\\n",
    "10536 \\\\\n",
    "\\end{vmatrix}$\n",
    "-\n",
    "$\\begin{vmatrix}\n",
    "15000\\\\\n",
    "30000\\\\\n",
    "10000 \\\\\n",
    "\\end{vmatrix}$\n",
    "=\n",
    "$\\begin{vmatrix}\n",
    "-2019\\\\\n",
    "29587\\\\\n",
    "536 \\\\\n",
    "\\end{vmatrix}$\n"
   ]
  },
  {
   "cell_type": "markdown",
   "metadata": {},
   "source": [
    "We want y' to be as close to y as possible. The ideal would be to make y'-y =0"
   ]
  },
  {
   "cell_type": "markdown",
   "metadata": {},
   "source": [
    "$y'- y = 0 $"
   ]
  },
  {
   "cell_type": "markdown",
   "metadata": {},
   "source": [
    "Now we can find the square loss function. This indicates how bad or good our model is doing. There are many method to use. In this project, I will use mean root square error(RMSE)."
   ]
  },
  {
   "cell_type": "markdown",
   "metadata": {},
   "source": [
    "<img src=\"https://cdn-images-1.medium.com/max/800/1*9hQVcasuwx5ddq_s3MFCyw.gif\"/>"
   ]
  },
  {
   "cell_type": "markdown",
   "metadata": {},
   "source": [
    "RMSE from above example is 17084.87"
   ]
  },
  {
   "cell_type": "markdown",
   "metadata": {},
   "source": [
    "<h2>Start finding optimal weights</h2>"
   ]
  },
  {
   "cell_type": "markdown",
   "metadata": {},
   "source": [
    "We can use normal equation to help finding line that minimize the error. "
   ]
  },
  {
   "cell_type": "markdown",
   "metadata": {},
   "source": [
    "Where θ is a vector contain weights for each of the property. The weights inside can be initialize to any value. The only condition is that each number are unique."
   ]
  },
  {
   "cell_type": "markdown",
   "metadata": {},
   "source": [
    "$θ=(X^TX)^-1 X^Ty$"
   ]
  },
  {
   "cell_type": "markdown",
   "metadata": {},
   "source": [
    "Where $X$ is features matrix, $X^T$ is transpose of $X$. and $y$ is real output."
   ]
  },
  {
   "cell_type": "markdown",
   "metadata": {},
   "source": [
    "But if we only use this equation, we might run into a problem called overfitting. Overfitting occurs when a model is excessively complex, such as having too many parameters relative to the number of observations. This can make our model not so accurate."
   ]
  },
  {
   "cell_type": "markdown",
   "metadata": {},
   "source": [
    "One way to avoid overfitting in Linear Regression is to make sure that each of the wieghts is not too high. So we have to come up with the equations that will have small weights and have small error. The formula that can do this is.."
   ]
  },
  {
   "cell_type": "markdown",
   "metadata": {},
   "source": [
    "$θ=(X^TX+λ⋅L)^-1 −1X^Ty$"
   ]
  },
  {
   "cell_type": "markdown",
   "metadata": {},
   "source": [
    "We introduce a new term called lambda ($λ$). I will skip the prove that term can make the model become less overfit. The value of lambda depends on the problem. \n"
   ]
  },
  {
   "cell_type": "markdown",
   "metadata": {},
   "source": [
    "<h3>Steps</h3>\n",
    "Many of these steps in the formula can be done in parallel. \n",
    "For example when transposing $X$, we can divide X into 4 parts. Then we transpose the 4 parts with 4 processors. \n",
    "\n",
    "Another operations that we can do in parallel is multiplication. Because when multiply, each of the answer cell is independent to each other. \n",
    "\n",
    "In addition, addition is also applicable to parallel processing. Similar to multiplication, each cell in addition is not dependent to each other. "
   ]
  },
  {
   "cell_type": "markdown",
   "metadata": {},
   "source": [
    "<h4>Done</h4>"
   ]
  },
  {
   "cell_type": "markdown",
   "metadata": {},
   "source": [
    "<p>After finish the calculation on the formula above, we will obtain optimal weights for our model. Next step is to evaluate the performance of that weights</p>"
   ]
  },
  {
   "cell_type": "markdown",
   "metadata": {},
   "source": [
    "<h2>Evaluation using validate set</h2>"
   ]
  },
  {
   "cell_type": "markdown",
   "metadata": {},
   "source": [
    "$ Xθ = y' $ \n",
    "\n",
    "$\n",
    "\\begin{vmatrix}\n",
    "7 & 1980 & 15 & 67 & 157 & 5 & 4 \\\\\n",
    "5 & 1996 & 20 & 58 & 513 & 5  & 751\\\\\n",
    "6 & 2010 & 67 & 7 & 6 & 6  & 37\\\\\n",
    "7 & 1980 & 15 & 67 & 157 & 5 & 4 \\\\\n",
    "5 & 1996 & 20 & 58 & 513 & 5  & 751\\\\\n",
    "6 & 2010 & 67 & 7 & 6 & 6  & 37\\\\7 & 1980 & 15 & 67 & 157 & 5 & 4 \\\\\n",
    "5 & 1996 & 20 & 58 & 513 & 5  & 751\\\\\n",
    "6 & 2010 & 67 & 7 & 6 & 6  & 37\\\\\n",
    "\\end{vmatrix}\n",
    "$\n",
    "$\n",
    "\\begin{vmatrix}\n",
    "5\\\\\n",
    "1\\\\\n",
    "2 \\\\\n",
    "15 \\\\\n",
    "7 \\\\\n",
    "1.6 \\\\\n",
    "5 \\\\\n",
    "\\end{vmatrix}$\n",
    "=\n",
    "$\n",
    "\\begin{vmatrix}\n",
    "12981\\\\\n",
    "59587\\\\\n",
    "10536\\\\\n",
    "12981\\\\\n",
    "59587\\\\\n",
    "10536\\\\\n",
    "12981\\\\\n",
    "59587\\\\\n",
    "10536\\\\\n",
    "\\end{vmatrix}$"
   ]
  },
  {
   "cell_type": "markdown",
   "metadata": {},
   "source": [
    "Similar to above, we will substituate X, θ, and y to find Root mean square error. When predicting, we can also use parallel processing to compute the answer. For example, we can seperate X into 4 parts, and then multiply each part to $θ$. If the error is high, then you might want to change some parameters.\n",
    "\n",
    "That's all for fitting a best fit line into a data."
   ]
  },
  {
   "cell_type": "markdown",
   "metadata": {},
   "source": [
    "<h2>Results</h2>"
   ]
  }
 ],
 "metadata": {
  "kernelspec": {
   "display_name": "Python [conda root]",
   "language": "python",
   "name": "conda-root-py"
  },
  "language_info": {
   "codemirror_mode": {
    "name": "ipython",
    "version": 3
   },
   "file_extension": ".py",
   "mimetype": "text/x-python",
   "name": "python",
   "nbconvert_exporter": "python",
   "pygments_lexer": "ipython3",
   "version": "3.5.3"
  }
 },
 "nbformat": 4,
 "nbformat_minor": 2
}
