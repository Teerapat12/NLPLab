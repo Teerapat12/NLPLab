{
 "cells": [
  {
   "cell_type": "markdown",
   "metadata": {},
   "source": [
    "<h1>Thai segmentation using tf-idf</h1>\n",
    "<p>In this python notebook, I'll try to demonstrate how to use term frequency (tf) \n",
    "and inverse document frequency (idf) to use in thai word segmentation. \n",
    "By this method, you won't need any dictionary beforehand </p>\n",
    "\n",
    "<p>First let's import library and dataset.</p>"
   ]
  },
  {
   "cell_type": "code",
   "execution_count": 1,
   "metadata": {
    "collapsed": true
   },
   "outputs": [],
   "source": [
    "# -*- coding: utf-8 -*-\n",
    "#Import packages\n",
    "import pandas as pd\n",
    "import matplotlib.pyplot as plt\n",
    "import numpy as np\n",
    "import timeit"
   ]
  },
  {
   "cell_type": "code",
   "execution_count": 2,
   "metadata": {
    "collapsed": false
   },
   "outputs": [],
   "source": [
    "#Load dataset\n",
    "dataset = pd.read_excel(\"dataset/pokemon TW TH search.xlsx\",skiprows=1)"
   ]
  },
  {
   "cell_type": "markdown",
   "metadata": {},
   "source": [
    "<h2>Let's explore the dataset</h2>"
   ]
  },
  {
   "cell_type": "code",
   "execution_count": 3,
   "metadata": {
    "collapsed": false
   },
   "outputs": [
    {
     "data": {
      "text/html": [
       "<div>\n",
       "<table border=\"1\" class=\"dataframe\">\n",
       "  <thead>\n",
       "    <tr style=\"text-align: right;\">\n",
       "      <th></th>\n",
       "      <th>Date</th>\n",
       "      <th>Screen Name</th>\n",
       "      <th>Full Name</th>\n",
       "      <th>Tweet Text</th>\n",
       "      <th>Tweet ID</th>\n",
       "      <th>App</th>\n",
       "      <th>Followers</th>\n",
       "      <th>Follows</th>\n",
       "      <th>Retweets</th>\n",
       "      <th>Favorites</th>\n",
       "      <th>Verfied</th>\n",
       "      <th>User Since</th>\n",
       "      <th>Location</th>\n",
       "      <th>Bio</th>\n",
       "      <th>Profile Image</th>\n",
       "      <th>Google Maps</th>\n",
       "    </tr>\n",
       "  </thead>\n",
       "  <tbody>\n",
       "    <tr>\n",
       "      <th>0</th>\n",
       "      <td>2016-09-12 07:06:00</td>\n",
       "      <td>@Aumbrella99</td>\n",
       "      <td>อั้มคีย์ดิสแก้บน™</td>\n",
       "      <td>RT @bluesherbet_: #สาระ ทำไมเล่นเกม Pokémon Go...</td>\n",
       "      <td>775334650218582018</td>\n",
       "      <td>Twitter for iPhone</td>\n",
       "      <td>417</td>\n",
       "      <td>366</td>\n",
       "      <td>136</td>\n",
       "      <td>0</td>\n",
       "      <td>No</td>\n",
       "      <td>2010-09-01 03:42:30</td>\n",
       "      <td>•SHINee World•</td>\n",
       "      <td>SHINee★ NCT♪ J.Jaehyun ε=กำลังแจวเรือ #jaeten ...</td>\n",
       "      <td>View</td>\n",
       "      <td>NaN</td>\n",
       "    </tr>\n",
       "    <tr>\n",
       "      <th>1</th>\n",
       "      <td>2016-09-12 07:06:43</td>\n",
       "      <td>@2543Napas</td>\n",
       "      <td>☞NPs ft.เอลฟ์อี้ชิง☜</td>\n",
       "      <td>RT @bluesherbet_: #สาระ ทำไมเล่นเกม Pokémon Go...</td>\n",
       "      <td>775334831211151360</td>\n",
       "      <td>Twitter for Android</td>\n",
       "      <td>160</td>\n",
       "      <td>267</td>\n",
       "      <td>136</td>\n",
       "      <td>0</td>\n",
       "      <td>No</td>\n",
       "      <td>2013-01-18 02:42:58</td>\n",
       "      <td>NaN</td>\n",
       "      <td>BANA|S♡NE|EXO-L|IGOT7 ❤❤❤ GONGCHAN|YOONA|YIXIN...</td>\n",
       "      <td>View</td>\n",
       "      <td>NaN</td>\n",
       "    </tr>\n",
       "    <tr>\n",
       "      <th>2</th>\n",
       "      <td>2016-09-12 07:13:56</td>\n",
       "      <td>@ao_amitra</td>\n",
       "      <td>Amitra</td>\n",
       "      <td>RT @thaimarketing: ที่คั่นหนังสือ Pokémon GO ท...</td>\n",
       "      <td>775336649618100224</td>\n",
       "      <td>Twitter for iPhone</td>\n",
       "      <td>72</td>\n",
       "      <td>88</td>\n",
       "      <td>840</td>\n",
       "      <td>0</td>\n",
       "      <td>No</td>\n",
       "      <td>2010-11-16 09:37:07</td>\n",
       "      <td>Bangkok</td>\n",
       "      <td>NaN</td>\n",
       "      <td>View</td>\n",
       "      <td>NaN</td>\n",
       "    </tr>\n",
       "    <tr>\n",
       "      <th>3</th>\n",
       "      <td>2016-09-12 07:14:40</td>\n",
       "      <td>@SolarSystem_14</td>\n",
       "      <td>❤ป๋าจุน บัตรเดียวจอด</td>\n",
       "      <td>RT @bluesherbet_: #สาระ ทำไมเล่นเกม Pokémon Go...</td>\n",
       "      <td>775336832997298177</td>\n",
       "      <td>Twitter for Android</td>\n",
       "      <td>1030</td>\n",
       "      <td>135</td>\n",
       "      <td>136</td>\n",
       "      <td>0</td>\n",
       "      <td>No</td>\n",
       "      <td>2012-03-24 13:17:26</td>\n",
       "      <td>Bangkok,Thailand ❤ EXO Planet</td>\n",
       "      <td>พี่ดงกยู&amp;พี่ยูรา l คุณคนเล็ก พี่เชร้ l มาดามสเ...</td>\n",
       "      <td>View</td>\n",
       "      <td>NaN</td>\n",
       "    </tr>\n",
       "    <tr>\n",
       "      <th>4</th>\n",
       "      <td>2016-09-12 07:23:52</td>\n",
       "      <td>@PoppapzWatchaCh</td>\n",
       "      <td>ㅍㅍㅈㅎ</td>\n",
       "      <td>RT @bluesherbet_: #สาระ ทำไมเล่นเกม Pokémon Go...</td>\n",
       "      <td>775339149188403200</td>\n",
       "      <td>Twitter for iPhone</td>\n",
       "      <td>666</td>\n",
       "      <td>981</td>\n",
       "      <td>136</td>\n",
       "      <td>0</td>\n",
       "      <td>No</td>\n",
       "      <td>2010-12-05 11:25:17</td>\n",
       "      <td>Thailand♥KKU</td>\n",
       "      <td>안녕하세요 ~ 난 팝팹이에요,태국 대학생이에요 ~ 여러분~ 만나서 반가워요.☺️</td>\n",
       "      <td>View</td>\n",
       "      <td>NaN</td>\n",
       "    </tr>\n",
       "  </tbody>\n",
       "</table>\n",
       "</div>"
      ],
      "text/plain": [
       "                 Date       Screen Name             Full Name  \\\n",
       "0 2016-09-12 07:06:00      @Aumbrella99     อั้มคีย์ดิสแก้บน™   \n",
       "1 2016-09-12 07:06:43        @2543Napas  ☞NPs ft.เอลฟ์อี้ชิง☜   \n",
       "2 2016-09-12 07:13:56        @ao_amitra                Amitra   \n",
       "3 2016-09-12 07:14:40   @SolarSystem_14  ❤ป๋าจุน บัตรเดียวจอด   \n",
       "4 2016-09-12 07:23:52  @PoppapzWatchaCh                  ㅍㅍㅈㅎ   \n",
       "\n",
       "                                          Tweet Text            Tweet ID  \\\n",
       "0  RT @bluesherbet_: #สาระ ทำไมเล่นเกม Pokémon Go...  775334650218582018   \n",
       "1  RT @bluesherbet_: #สาระ ทำไมเล่นเกม Pokémon Go...  775334831211151360   \n",
       "2  RT @thaimarketing: ที่คั่นหนังสือ Pokémon GO ท...  775336649618100224   \n",
       "3  RT @bluesherbet_: #สาระ ทำไมเล่นเกม Pokémon Go...  775336832997298177   \n",
       "4  RT @bluesherbet_: #สาระ ทำไมเล่นเกม Pokémon Go...  775339149188403200   \n",
       "\n",
       "                   App  Followers  Follows  Retweets  Favorites Verfied  \\\n",
       "0   Twitter for iPhone        417      366       136          0      No   \n",
       "1  Twitter for Android        160      267       136          0      No   \n",
       "2   Twitter for iPhone         72       88       840          0      No   \n",
       "3  Twitter for Android       1030      135       136          0      No   \n",
       "4   Twitter for iPhone        666      981       136          0      No   \n",
       "\n",
       "           User Since                        Location  \\\n",
       "0 2010-09-01 03:42:30                  •SHINee World•   \n",
       "1 2013-01-18 02:42:58                             NaN   \n",
       "2 2010-11-16 09:37:07                         Bangkok   \n",
       "3 2012-03-24 13:17:26  Bangkok,Thailand ❤ EXO Planet    \n",
       "4 2010-12-05 11:25:17                    Thailand♥KKU   \n",
       "\n",
       "                                                 Bio Profile Image Google Maps  \n",
       "0  SHINee★ NCT♪ J.Jaehyun ε=กำลังแจวเรือ #jaeten ...          View         NaN  \n",
       "1  BANA|S♡NE|EXO-L|IGOT7 ❤❤❤ GONGCHAN|YOONA|YIXIN...          View         NaN  \n",
       "2                                                NaN          View         NaN  \n",
       "3  พี่ดงกยู&พี่ยูรา l คุณคนเล็ก พี่เชร้ l มาดามสเ...          View         NaN  \n",
       "4       안녕하세요 ~ 난 팝팹이에요,태국 대학생이에요 ~ 여러분~ 만나서 반가워요.☺️          View         NaN  "
      ]
     },
     "execution_count": 3,
     "metadata": {},
     "output_type": "execute_result"
    }
   ],
   "source": [
    "dataset.head()"
   ]
  },
  {
   "cell_type": "code",
   "execution_count": 4,
   "metadata": {
    "collapsed": false
   },
   "outputs": [
    {
     "name": "stdout",
     "output_type": "stream",
     "text": [
      "We have 37344 number of rows\n"
     ]
    }
   ],
   "source": [
    "print(\"We have \"+str(dataset.shape[0])+\" number of rows\")"
   ]
  },
  {
   "cell_type": "markdown",
   "metadata": {},
   "source": [
    "<h2>Next step is Data Preprocess.</h2><p> I will create a string contain all of tweet text joined together so that it is faster to count tf.</p>\n",
    "\n",
    "<p>No need to normalize anything because we only want to count number of occurence of words</p>"
   ]
  },
  {
   "cell_type": "code",
   "execution_count": 5,
   "metadata": {
    "collapsed": true
   },
   "outputs": [],
   "source": [
    "#Get Tweet text as string\n",
    "fileString = ''\n",
    "for index,rows in dataset.iterrows():\n",
    "        fileString += (rows['Tweet Text']+\"|\")        "
   ]
  },
  {
   "cell_type": "code",
   "execution_count": 6,
   "metadata": {
    "collapsed": false
   },
   "outputs": [],
   "source": [
    "#Save fileString as txt so that we won't have to wait for fileString everytime.\n",
    "with open(\"dataset/tweetText.txt\", \"wb\") as f:\n",
    "    f.write(fileString.encode(\"utf-8\"))"
   ]
  },
  {
   "cell_type": "code",
   "execution_count": 7,
   "metadata": {
    "collapsed": false
   },
   "outputs": [
    {
     "name": "stdout",
     "output_type": "stream",
     "text": [
      "FileString length is 4725150\n",
      "Estimate word in fileString : 787525\n"
     ]
    }
   ],
   "source": [
    "stringLength = len(fileString)\n",
    "print(\"FileString length is \"+str(stringLength))\n",
    "print(\"Estimate word in fileString : \"+str(int(stringLength/6)))"
   ]
  },
  {
   "cell_type": "markdown",
   "metadata": {},
   "source": [
    "<h2>Then we will create a function to count tf/idf of the word</h2>\n",
    "<p>For tf, we just count how many occurance of the word is in fileString</p>\n",
    "<p>For df, we will iterate through the dataset and count how many row contains the word</p>"
   ]
  },
  {
   "cell_type": "code",
   "execution_count": 8,
   "metadata": {
    "collapsed": false
   },
   "outputs": [
    {
     "data": {
      "text/plain": [
       "7889"
      ]
     },
     "execution_count": 8,
     "metadata": {},
     "output_type": "execute_result"
    }
   ],
   "source": [
    "def count_tf(word,fileString=fileString):\n",
    "    return fileString.count(word)\n",
    "count_tf('เกม',fileString)    "
   ]
  },
  {
   "cell_type": "code",
   "execution_count": 9,
   "metadata": {
    "collapsed": false
   },
   "outputs": [
    {
     "data": {
      "text/plain": [
       "7249"
      ]
     },
     "execution_count": 9,
     "metadata": {},
     "output_type": "execute_result"
    }
   ],
   "source": [
    "def count_df(word,dataset=dataset):\n",
    "    df = 0\n",
    "    for index,rows in dataset.iterrows():\n",
    "        if(word in rows['Tweet Text']):\n",
    "            df+=1\n",
    "    return df\n",
    "count_df('เกม')"
   ]
  },
  {
   "cell_type": "markdown",
   "metadata": {},
   "source": [
    "<h2>Next is visualizing tf/df</h2>\n",
    "<p>Now let's look at the tf and df of a word in a sentence and how tf/df decreases.</p>"
   ]
  },
  {
   "cell_type": "code",
   "execution_count": 10,
   "metadata": {
    "collapsed": true
   },
   "outputs": [],
   "source": [
    "sentences = ['ลองทดสอบตัด','เกมนี้สนุกมากๆ','อยากออกไปเล่นเกมข้างนอก','พรุ่งนี้พ่อจะพาไปสยาม']"
   ]
  },
  {
   "cell_type": "code",
   "execution_count": 11,
   "metadata": {
    "collapsed": false
   },
   "outputs": [
    {
     "data": {
      "image/png": "[encoded data removed]",
      "text/plain": [
       "<matplotlib.figure.Figure at 0x1557351e160>"
      ]
     },
     "metadata": {},
     "output_type": "display_data"
    },
    {
     "name": "stdout",
     "output_type": "stream",
     "text": [
      "[[65060, 1058, 294, 5, 0, 0, 0, 0, 0, 0, 0], [104272, 15589, 7889, 16, 9, 9, 0, 0, 0, 0, 0, 0, 0, 0], [117190, 11061, 1239, 1223, 3, 0, 0, 0, 0, 0, 0, 0, 0, 0, 0, 0, 0, 0, 0, 0, 0, 0, 0], [26792, 2995, 133, 125, 125, 125, 125, 125, 0, 0, 0, 0, 0, 0, 0, 0, 0, 0, 0, 0, 0]]\n",
      "Execution time : 0.98s.\n"
     ]
    }
   ],
   "source": [
    "\n",
    "def count_tfs(sentence,fileString=fileString):\n",
    "    tfs = []\n",
    "    for i in range(len(sentence)):\n",
    "        word = sentence[:i+1]\n",
    "        tfs.append(count_tf(word))\n",
    "    return tfs\n",
    "def visualize_tf(sentences,fileString=fileString):\n",
    "    tfs_list = []\n",
    "    for sentence in sentences:\n",
    "        tfs_list.append(count_tfs(sentence,fileString))\n",
    "    for i,tfs in enumerate(tfs_list):\n",
    "        plt.plot(tfs,label=sentences[i])\n",
    "    plt.xticks(np.arange(0, 15, 1.0))\n",
    "    plt.xlim([0,10])\n",
    "    plt.yscale('log', nonposy='clip')\n",
    "    plt.rc('font',family='JasmineUPC')\n",
    "    plt.legend(fontsize=15)\n",
    "    plt.yscale('log')\n",
    "    plt.show()\n",
    "    print(tfs_list)\n",
    "    \n",
    "start = timeit.default_timer()\n",
    "visualize_tf(sentences)\n",
    "stop = timeit.default_timer()\n",
    "print(\"Execution time : \"+str(round(stop - start,2))+\"s.\")"
   ]
  },
  {
   "cell_type": "markdown",
   "metadata": {
    "collapsed": false
   },
   "source": [
    "#Ignore this, dfs is too slow. (about 1 mins)\n",
    "def count_dfs(sentence,fileString=fileString):\n",
    "    dfs = []\n",
    "    for i in range(len(sentence)):\n",
    "        word = sentence[:i+1]\n",
    "        dfs.append(count_df(word))\n",
    "    return dfs\n",
    "def visualize_df(sentences,fileString=fileString):\n",
    "    dfs_list = []\n",
    "    for sentence in sentences:\n",
    "        dfs_list.append(count_dfs(sentence,fileString))\n",
    "    for i,dfs in enumerate(dfs_list):\n",
    "        plt.plot(dfs,label=sentences[i])\n",
    "    plt.xticks(np.arange(0, 6, 1.0))\n",
    "    plt.xlim([0,6])\n",
    "    plt.yscale('log', nonposy='clip')\n",
    "    plt.rc('font',family='JasmineUPC')\n",
    "    plt.legend(fontsize=20)\n",
    "    plt.yscale('log')\n",
    "    plt.show()\n",
    "    print(dfs_list)\n",
    "    \n",
    "start = timeit.default_timer()\n",
    "visualize_df(sentences)\n",
    "stop = timeit.default_timer()\n",
    "print(\"Execution time : \"+str(round(stop - start,2))+\"s.\")"
   ]
  },
  {
   "cell_type": "markdown",
   "metadata": {},
   "source": [
    "<h3>You can see that tf/df always drop drastically when the word go pass through word boundary</h3>\n",
    "<p>We will use only tf for now because computing df is very slow compare to tf</p>"
   ]
  },
  {
   "cell_type": "markdown",
   "metadata": {},
   "source": [
    "<h3>Now let's try using to find word boundary.</h3>\n",
    "<p>Let's assume that tf will decrease 'drastically' when pass through word boundary</p>"
   ]
  },
  {
   "cell_type": "code",
   "execution_count": 12,
   "metadata": {
    "collapsed": false
   },
   "outputs": [
    {
     "name": "stdout",
     "output_type": "stream",
     "text": [
      "[0, 0, 0, 2, 2, 0, 1, 0, 4, 0, 3]\n",
      "ลองทดสอบตัด\n",
      "[0, 0, 0, 2, 0, 0, 3, 3, 0, 0, 3, 0, 0, 2]\n",
      "เกมนี้สนุกมากๆ\n",
      "[0, 0, 0, 0, 3, 2, 0, 0, 0, 3, 1, 0, 0, 1, 0, 0, 6, 1, 1, 0, 0, 0, 0]\n",
      "อยากออกไปเล่นเกมข้างนอก\n",
      "[0, 0, 0, 0, 1, 1, 0, 0, 7, 2, 0, 2, 1, 2, 2, 1, 0, 2, 2, 0, 1]\n",
      "พรุ่งนี้พ่อจะพาไปสยาม\n"
     ]
    }
   ],
   "source": [
    "#This function wil do a brute force tf count and count when the tf drop drastically at that index \n",
    "def tf_drop_count(sentence,fileString=fileString):\n",
    "    l = len(sentence)\n",
    "    pass_boundary_counts = [0]*l\n",
    "    for i in range(l):\n",
    "        tfs = [0]*(i)+count_tfs(sentence[i:])\n",
    "        #My heuristic function is if current*12 is still less then previous then it has pass word boundary\n",
    "        for i in range(1,len(tfs)):\n",
    "            if((tfs[i]+1)*12<tfs[i-1] and tfs[i-2]!=0 and i-2>0):\n",
    "                pass_boundary_counts[i]+=1\n",
    "    return pass_boundary_counts\n",
    "\n",
    "for sentence in sentences:\n",
    "    print(tf_drop_count(sentence))\n",
    "    print(sentence)\n",
    "    \n",
    "            \n"
   ]
  },
  {
   "cell_type": "markdown",
   "metadata": {},
   "source": [
    "<h2>Now we will seperate word based on these pass boundary count.</h2><p> If higher boundary counts, then it is more likely that it has already pass word boundary.</p>"
   ]
  },
  {
   "cell_type": "code",
   "execution_count": 13,
   "metadata": {
    "collapsed": false
   },
   "outputs": [
    {
     "name": "stdout",
     "output_type": "stream",
     "text": [
      "[0, 0, 0, 2, 2, 0, 1, 0, 4, 0, 3]\n",
      "['ลอง', 'ทดสอบ', 'ตัด']\n",
      "[0, 0, 0, 2, 0, 0, 3, 3, 0, 0, 3, 0, 0, 2]\n",
      "['เกม', 'นี้', 'สนุก', 'มากๆ']\n",
      "[0, 0, 0, 0, 3, 2, 0, 0, 0, 3, 1, 0, 0, 1, 0, 0, 6, 1, 1, 0, 0, 0, 0]\n",
      "['อยาก', 'ออกไป', 'เล่นเกม', 'ข้างนอก']\n",
      "[0, 0, 0, 0, 1, 1, 0, 0, 7, 2, 0, 2, 1, 2, 2, 1, 0, 2, 2, 0, 1]\n",
      "['พรุ่งนี้', 'พ่อ', 'จะพาไป', 'สยาม']\n"
     ]
    }
   ],
   "source": [
    "def segment(sentence):\n",
    "    word = ''\n",
    "    wordList = []\n",
    "    pass_boundary_counts = tf_drop_count(sentence)\n",
    "    curCount = pass_boundary_counts[0]\n",
    "    nextCount = pass_boundary_counts[1]\n",
    "    \n",
    "    for i in range(len(sentence)-1):\n",
    "        s = sentence[i]\n",
    "        prevCount=curCount\n",
    "        curCount=nextCount\n",
    "        nextCount= pass_boundary_counts[i+1]\n",
    "        if(prevCount<curCount and curCount>=nextCount and curCount>1 and (prevCount==0 or nextCount==0)):\n",
    "            wordList.append(word)\n",
    "            word = ''\n",
    "        word+=s\n",
    "    word+=sentence[-1]\n",
    "    wordList.append(word)\n",
    "    print(pass_boundary_counts)\n",
    "    print(wordList)\n",
    "    return wordList\n",
    "for sentence in sentences:\n",
    "    segment(sentence)"
   ]
  },
  {
   "cell_type": "markdown",
   "metadata": {},
   "source": [
    "<h2>Some difficult to segment example</h2>\n",
    "<p>These might be word that don't occur that often in the corpus, or word that can be cut in many possible way</p>"
   ]
  },
  {
   "cell_type": "code",
   "execution_count": 14,
   "metadata": {
    "collapsed": false
   },
   "outputs": [
    {
     "name": "stdout",
     "output_type": "stream",
     "text": [
      "[0, 0, 0, 2, 2, 1, 1, 0, 0, 3, 0, 5, 2, 2]\n",
      "['ตาก', 'ลมหรือ', 'ตา', 'กลม']\n",
      "[0, 0, 0, 2, 1, 0, 2, 2, 0, 2, 3, 1, 0, 0, 0, 5, 0, 0]\n",
      "['คิด', 'ไม่', 'ออกเหมือน', 'กัน']\n",
      "[0, 0, 0, 0, 3, 0, 0, 0, 4, 0, 0, 6, 1, 1, 0, 0, 0, 0, 6, 1, 0, 0, 3, 0, 0, 3, 0, 0]\n",
      "['อยาก', 'เล่น', 'เกม', 'ข้างนอก', 'บ้าน', 'มาก', 'เลย']\n",
      "[0, 0, 0, 2, 1, 0, 3, 1, 0, 2, 1, 0, 1, 1, 1, 2, 0, 0]\n",
      "['ลอง', 'อีก', 'ซัก', 'อันนะค', 'รับ']\n",
      "[0, 0, 0, 1, 1, 1, 2, 1, 2, 3, 1, 0, 0, 0, 4, 1, 2, 0, 3, 1, 2, 1, 0, 0, 4, 4, 0, 0, 0, 0, 4, 2, 1, 1, 0, 0]\n",
      "['อาหารและยาเป็น', 'สิ', '่ง', 'จำเป็น', 'สำหรับ', 'มนุษย์']\n"
     ]
    }
   ],
   "source": [
    "hard_sentences = ['ตากลมหรือตากลม','คิดไม่ออกเหมือนกัน','อยากเล่นเกมข้างนอกบ้านมากเลย','ลองอีกซักอันนะครับ','อาหารและยาเป็นสิ่งจำเป็นสำหรับมนุษย์']\n",
    "for sentence in hard_sentences:\n",
    "    segment(sentence)"
   ]
  },
  {
   "cell_type": "markdown",
   "metadata": {},
   "source": [
    "<h3>Conclusion</h3>\n",
    "<p>As you can see, this approach can (kind of) segment words from sentence without using any dictionary.</p>\n",
    "<p>Can be more accurate if improve the algorithm for cutting the word based on word_pass_count</p>\n",
    "\n",
    "<h4>Referecenes</h4>\n",
    "<ul>\n",
    "<li>Virach Sornlertlamvanich. Word Segmentation for Thai in Machine Translation System. Machine Translation, National Electronics and Computer Technology Center, Bangkok. pp. 50-56, 1993. (in Thai)***</li>\n",
    "</ul>"
   ]
  }
 ],
 "metadata": {
  "kernelspec": {
   "display_name": "Python [conda root]",
   "language": "python",
   "name": "conda-root-py"
  },
  "language_info": {
   "codemirror_mode": {
    "name": "ipython",
    "version": 3
   },
   "file_extension": ".py",
   "mimetype": "text/x-python",
   "name": "python",
   "nbconvert_exporter": "python",
   "pygments_lexer": "ipython3",
   "version": "3.5.3"
  }
 },
 "nbformat": 4,
 "nbformat_minor": 2
}
